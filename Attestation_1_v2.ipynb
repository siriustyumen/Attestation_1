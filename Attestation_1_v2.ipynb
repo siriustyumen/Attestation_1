{
  "nbformat": 4,
  "nbformat_minor": 0,
  "metadata": {
    "colab": {
      "provenance": []
    },
    "kernelspec": {
      "name": "python3",
      "display_name": "Python 3"
    },
    "language_info": {
      "name": "python"
    }
  },
  "cells": [
    {
      "cell_type": "markdown",
      "source": [
        "Подлючаем streamlit"
      ],
      "metadata": {
        "id": "os0xeoSdlxo5"
      }
    },
    {
      "cell_type": "code",
      "execution_count": 37,
      "metadata": {
        "id": "KCJKy25o4UpY"
      },
      "outputs": [],
      "source": [
        "!pip install streamlit -q\n",
        "\n",
        "\n"
      ]
    },
    {
      "cell_type": "markdown",
      "source": [
        "Формируем запись файла app.py, который загрузится на streamlit и будет выполняться, в нем код программы с импортом библиотек и обработкой математики на стримлите"
      ],
      "metadata": {
        "id": "tjUPcz94l30k"
      }
    },
    {
      "cell_type": "code",
      "source": [
        "%%writefile app.py\n",
        "import streamlit as st\n",
        "import numpy as np\n",
        "import pandas as pd\n",
        "import seaborn as sns\n",
        "from matplotlib import pyplot as plt\n",
        "from io import StringIO\n",
        "#dataset_filename = \"/content/salaries2.csv\"\n",
        "#data_frame = pd.read_csv(dataset_filename)\n",
        "\n",
        "st.title (\"Анализ датасетов на streamlit\")\n",
        "st.markdown (\"---\")\n",
        "\n",
        "uploaded_file = st.file_uploader(\"Выберите файл датасета для загрузки формата *.csv\", type = [\"csv\"])\n",
        "if uploaded_file is not None:\n",
        "  st.write(\" > Датасет: \", uploaded_file.name)\n",
        "  data_frame = pd.read_csv(uploaded_file)\n",
        "  st.dataframe(data_frame)\n",
        "  on_mathcolumn = st.checkbox('Вычислить min/max, среднего и квартелей')\n",
        "  if on_mathcolumn:\n",
        "    column = data_frame.columns.tolist()\n",
        "    st.write(\" > Колонки датасета: \", column)\n",
        "    columnT = column.T\n",
        "    st.write(\" > Колонки датасета T: \",columnT)\n",
        "    #selected = st.selectbox(\"Выберите колонку для определения min/max, среднего и квартелей\", coloumnT)\n",
        "    #selected = st.selectbox(\"Выберите колонку для определения min/max, среднего и квартелей\", [\"method\",\"orbital_period\",\"mass\", \"distance\", \"year\"])\n",
        "    #selected_table = data_frame[selected].describe()\n",
        "    #st.table(selected_table)\n",
        "  pass\n",
        "  on_plotaddiction = st.checkbox('Построить график зависимости 2-х параметров')\n",
        "  if on_plotaddiction:\n",
        "    x = st.selectbox(\"Выберите первый параметр\", [\"method\",\"orbital_period\",\"mass\", \"distance\", \"year\"])\n",
        "    y = st.selectbox(\"Выберите второй параметр\", [\"method\",\"orbital_period\",\"mass\", \"distance\", \"year\"])\n",
        "    #if x := y then:\n",
        "    fig = plt.figure()\n",
        "    st.write(data_frame[x])\n",
        "    st.write(data_frame[y])\n",
        "    plt.scatter(data_frame[x],data_frame[y])\n",
        "    plt.xticks(rotation=90)\n",
        "    st.write(fig)\n",
        "    #else:\n",
        "      #st.write(\"Нельзя построить график зависимоста параметра самого от себя\")\n",
        "  pass\n",
        "  on_chart = st.checkbox('Построить распределение параметра ')\n",
        "  if on_chart:\n",
        "    x = st.selectbox(\"Выберите параметр\", [\"method\",\"orbital_period\",\"mass\", \"distance\", \"year\"])\n",
        "\n",
        "    fig = plt.figure()\n",
        "    st.write(data_frame[x])\n",
        "    data_frameNan=data_frame.dropna()\n",
        "    #sns.displot (data_frameNan[x])\n",
        "    sns.kdeplot (data_frameNan[x])\n",
        "    #plt.pie (data_frameNan[x])\n",
        "    st.write(fig)\n",
        "  pass\n",
        "\n",
        "\n",
        "\n",
        "st.write('Hello, *World!* :sunglasses:')\n",
        "x = st.slider('Select a value')\n",
        "st.write(x, 'squared is', x * x)\n"
      ],
      "metadata": {
        "colab": {
          "base_uri": "https://localhost:8080/"
        },
        "id": "HgOjXFJfAi_Y",
        "outputId": "5ce5899d-a7a2-42f4-96bf-eff27ad6baa2"
      },
      "execution_count": 229,
      "outputs": [
        {
          "output_type": "stream",
          "name": "stdout",
          "text": [
            "Overwriting app.py\n"
          ]
        }
      ]
    },
    {
      "cell_type": "markdown",
      "source": [
        "Запускаем streamlit на локалхосте"
      ],
      "metadata": {
        "id": "GoSRWvCjHn9o"
      }
    },
    {
      "cell_type": "code",
      "source": [
        "!npm install localtunnel\n",
        "!streamlit run app.py &>/content/logs.txt &\n",
        "!npx localtunnel --port 8501 & curl ipv4.icanhazip.com\n",
        "#!streamlit run app.py & npx localtunnel --port 8501"
      ],
      "metadata": {
        "colab": {
          "base_uri": "https://localhost:8080/"
        },
        "id": "fm4w628_Bx4Q",
        "outputId": "0561d7bd-a6d7-4ea7-c022-732f195973a6"
      },
      "execution_count": 230,
      "outputs": [
        {
          "output_type": "stream",
          "name": "stdout",
          "text": [
            "\u001b[K\u001b[?25h\u001b[37;40mnpm\u001b[0m \u001b[0m\u001b[30;43mWARN\u001b[0m \u001b[0m\u001b[35msaveError\u001b[0m ENOENT: no such file or directory, open '/content/package.json'\n",
            "\u001b[0m\u001b[37;40mnpm\u001b[0m \u001b[0m\u001b[30;43mWARN\u001b[0m \u001b[0m\u001b[35menoent\u001b[0m ENOENT: no such file or directory, open '/content/package.json'\n",
            "\u001b[0m\u001b[37;40mnpm\u001b[0m \u001b[0m\u001b[30;43mWARN\u001b[0m\u001b[35m\u001b[0m content No description\n",
            "\u001b[0m\u001b[37;40mnpm\u001b[0m \u001b[0m\u001b[30;43mWARN\u001b[0m\u001b[35m\u001b[0m content No repository field.\n",
            "\u001b[0m\u001b[37;40mnpm\u001b[0m \u001b[0m\u001b[30;43mWARN\u001b[0m\u001b[35m\u001b[0m content No README data\n",
            "\u001b[0m\u001b[37;40mnpm\u001b[0m \u001b[0m\u001b[30;43mWARN\u001b[0m\u001b[35m\u001b[0m content No license field.\n",
            "\u001b[0m\n",
            "\u001b[K\u001b[?25h+ localtunnel@2.0.2\n",
            "updated 1 package and audited 36 packages in 0.511s\n",
            "\n",
            "3 packages are looking for funding\n",
            "  run `npm fund` for details\n",
            "\n",
            "found \u001b[92m0\u001b[0m vulnerabilities\n",
            "\n",
            "35.196.123.66\n",
            "\u001b[K\u001b[?25hnpx: installed 22 in 3.387s\n",
            "your url is: https://thirty-geese-bet.loca.lt\n"
          ]
        }
      ]
    }
  ]
}