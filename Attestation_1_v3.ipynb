{
  "nbformat": 4,
  "nbformat_minor": 0,
  "metadata": {
    "colab": {
      "provenance": []
    },
    "kernelspec": {
      "name": "python3",
      "display_name": "Python 3"
    },
    "language_info": {
      "name": "python"
    }
  },
  "cells": [
    {
      "cell_type": "markdown",
      "source": [
        "Подлючаем streamlit"
      ],
      "metadata": {
        "id": "os0xeoSdlxo5"
      }
    },
    {
      "cell_type": "code",
      "execution_count": 13,
      "metadata": {
        "colab": {
          "base_uri": "https://localhost:8080/"
        },
        "id": "KCJKy25o4UpY",
        "outputId": "89654a7f-6f46-4294-f38d-c253e04b6cbc"
      },
      "outputs": [
        {
          "output_type": "stream",
          "name": "stdout",
          "text": [
            "\u001b[2K     \u001b[90m━━━━━━━━━━━━━━━━━━━━━━━━━━━━━━━━━━━━━━━━\u001b[0m \u001b[32m8.1/8.1 MB\u001b[0m \u001b[31m15.1 MB/s\u001b[0m eta \u001b[36m0:00:00\u001b[0m\n",
            "\u001b[2K     \u001b[90m━━━━━━━━━━━━━━━━━━━━━━━━━━━━━━━━━━━━━━\u001b[0m \u001b[32m164.8/164.8 kB\u001b[0m \u001b[31m12.8 MB/s\u001b[0m eta \u001b[36m0:00:00\u001b[0m\n",
            "\u001b[2K     \u001b[90m━━━━━━━━━━━━━━━━━━━━━━━━━━━━━━━━━━━━━━\u001b[0m \u001b[32m188.5/188.5 kB\u001b[0m \u001b[31m18.7 MB/s\u001b[0m eta \u001b[36m0:00:00\u001b[0m\n",
            "\u001b[2K     \u001b[90m━━━━━━━━━━━━━━━━━━━━━━━━━━━━━━━━━━━━━━━━\u001b[0m \u001b[32m4.7/4.7 MB\u001b[0m \u001b[31m42.4 MB/s\u001b[0m eta \u001b[36m0:00:00\u001b[0m\n",
            "\u001b[2K     \u001b[90m━━━━━━━━━━━━━━━━━━━━━━━━━━━━━━━━━━━━━━━━\u001b[0m \u001b[32m82.1/82.1 kB\u001b[0m \u001b[31m7.6 MB/s\u001b[0m eta \u001b[36m0:00:00\u001b[0m\n",
            "\u001b[2K     \u001b[90m━━━━━━━━━━━━━━━━━━━━━━━━━━━━━━━━━━━━━━━━\u001b[0m \u001b[32m62.7/62.7 kB\u001b[0m \u001b[31m6.7 MB/s\u001b[0m eta \u001b[36m0:00:00\u001b[0m\n",
            "\u001b[2K     \u001b[90m━━━━━━━━━━━━━━━━━━━━━━━━━━━━━━━━━━━━━━\u001b[0m \u001b[32m341.8/341.8 kB\u001b[0m \u001b[31m31.0 MB/s\u001b[0m eta \u001b[36m0:00:00\u001b[0m\n",
            "\u001b[?25h"
          ]
        }
      ],
      "source": [
        "!pip install streamlit -q\n",
        "\n",
        "\n"
      ]
    },
    {
      "cell_type": "markdown",
      "source": [
        "Формируем запись файла app.py, который загрузится на streamlit и будет выполняться, в нем код программы с импортом библиотек и обработкой математики на стримлите"
      ],
      "metadata": {
        "id": "tjUPcz94l30k"
      }
    },
    {
      "cell_type": "code",
      "source": [
        "%%writefile app.py\n",
        "import streamlit as st\n",
        "import numpy as np\n",
        "import pandas as pd\n",
        "import seaborn as sns\n",
        "#import sympy\n",
        "from matplotlib import pyplot as plt\n",
        "#from statsmodels import robust\n",
        "#import pymatrix\n",
        "from io import StringIO\n",
        "#dataset_filename = \"/content/salaries2.csv\"\n",
        "#data_frame = pd.read_csv(dataset_filename)\n",
        "\n",
        "st.title (\"Анализ датасетов на streamlit\")\n",
        "st.markdown (\"---\")\n",
        "\n",
        "uploaded_file = st.file_uploader(\"Выберите файл датасета для загрузки формата *.csv\", type = [\"csv\"])\n",
        "if uploaded_file is not None:\n",
        "  st.write(\" > Датасет: \", uploaded_file.name)\n",
        "  data_frame = pd.read_csv(uploaded_file)\n",
        "  st.dataframe(data_frame)\n",
        "  on_mathcolumn = st.checkbox('Вычислить min/max, среднего и квартелей')\n",
        "  if on_mathcolumn:\n",
        "    column = data_frame.columns.tolist()\n",
        "    st.write(\" > Колонки датасета: \")\n",
        "    st.dataframe(column)\n",
        "    #columnT=pd.transpose(coloumn)\n",
        "    #columnT=pd.T.coloumn()\n",
        "    #coloumnT=pymatrix.transpose.coloumn()\n",
        "    st.write(\" > Строки датасета T: \")\n",
        "    st.dataframe(columnT)\n",
        "    #selected = st.selectbox(\"Выберите колонку для определения min/max, среднего и квартелей\", coloumnT)\n",
        "\n",
        "    # пытался с помощью транспонирования матриц сделать универсальный выбор полей, но не заработало\n",
        "\n",
        "    selected = st.selectbox(\"Выберите колонку для определения min/max, среднего и квартелей\", [\"method\",\"orbital_period\",\"mass\", \"distance\", \"year\"])\n",
        "    selected_table = data_frame[selected].describe()\n",
        "    st.table(selected_table)\n",
        "  pass\n",
        "  on_plotaddiction = st.checkbox('Построить график зависимости 2-х параметров')\n",
        "  if on_plotaddiction:\n",
        "    x = st.selectbox(\"Выберите первый параметр\", [\"method\",\"orbital_period\",\"mass\", \"distance\", \"year\"])\n",
        "    y = st.selectbox(\"Выберите второй параметр\", [\"method\",\"orbital_period\",\"mass\", \"distance\", \"year\"])\n",
        "    #if x := y then:\n",
        "\n",
        "    # проверка на повтор выбора не работает  - \"не равно\", пишет ошибка синтаксиса, как в таком варианте, так и в !=\n",
        "\n",
        "    fig = plt.figure()\n",
        "    st.write(data_frame[x])\n",
        "    st.write(data_frame[y])\n",
        "    plt.scatter(data_frame[x],data_frame[y])\n",
        "    plt.xticks(rotation=90)\n",
        "    st.write(fig)\n",
        "    #else:\n",
        "      #st.write(\"Нельзя построить график зависимоста параметра самого от себя\")\n",
        "  pass\n",
        "  on_chart = st.checkbox('Построить распределение параметра ')\n",
        "  if on_chart:\n",
        "    x = st.selectbox(\"Выберите параметр\", [\"method\",\"orbital_period\",\"mass\", \"distance\", \"year\"])\n",
        "\n",
        "    fig = plt.figure()\n",
        "    st.write(data_frame[x])\n",
        "    data_frameNan=data_frame.dropna()\n",
        "    #sns.displot (data_frameNan[x])\n",
        "    sns.kdeplot (data_frameNan[x])\n",
        "    #plt.pie (data_frameNan[x])\n",
        "    st.write(fig)\n",
        "  pass\n",
        "  on_analith = st.checkbox('Проверка гипотез')\n",
        "  if on_analith:\n",
        "    plot = st.selectbox(\"Выберите построение зависимости\", [\"Скрипичная диограмма\",\"Точечная диограмма\"])\n",
        "    x2 = st.selectbox(\"Выберите первый параметр\", [\"method\",\"orbital_period\",\"mass\", \"distance\", \"year\"])\n",
        "    y2 = st.selectbox(\"Выберите второй параметр\", [\"method\",\"orbital_period\",\"mass\", \"distance\", \"year\"])\n",
        "    fig = plt.figure()\n",
        "    data_frameNan=data_frame.dropna()\n",
        "    if plot == \"Скрипичная диограмма\":\n",
        "      sns.stripplot(x=\"mass\",y=\"distance\", data= data_frameNan)\n",
        "    elif plot == \"Точечная диограмма\":\n",
        "      sns.violinplot(x=\"mass\",y=\"distance\", data= data_frameNan)\n",
        "    plt.xticks(rotation=90)\n",
        "    st.write(fig)\n",
        "  pass\n",
        "\n",
        "\n",
        "st.write('Hello, *World!* :sunglasses:')\n",
        "x = st.slider('Select a value')\n",
        "st.write(x, 'squared is', x * x)\n"
      ],
      "metadata": {
        "colab": {
          "base_uri": "https://localhost:8080/"
        },
        "id": "HgOjXFJfAi_Y",
        "outputId": "47704107-4a0f-4210-e3c2-364c89150c6b"
      },
      "execution_count": 39,
      "outputs": [
        {
          "output_type": "stream",
          "name": "stdout",
          "text": [
            "Overwriting app.py\n"
          ]
        }
      ]
    },
    {
      "cell_type": "markdown",
      "source": [
        "Запускаем streamlit на локалхосте"
      ],
      "metadata": {
        "id": "GoSRWvCjHn9o"
      }
    },
    {
      "cell_type": "code",
      "source": [
        "!npm install localtunnel\n",
        "!streamlit run app.py &>/content/logs.txt &\n",
        "!npx localtunnel --port 8501 & curl ipv4.icanhazip.com\n",
        "#!streamlit run app.py & npx localtunnel --port 8501"
      ],
      "metadata": {
        "colab": {
          "base_uri": "https://localhost:8080/"
        },
        "id": "fm4w628_Bx4Q",
        "outputId": "e17c39c8-17a6-440a-d6c9-8045c410dd47"
      },
      "execution_count": 40,
      "outputs": [
        {
          "output_type": "stream",
          "name": "stdout",
          "text": [
            "\u001b[K\u001b[?25h\u001b[37;40mnpm\u001b[0m \u001b[0m\u001b[30;43mWARN\u001b[0m \u001b[0m\u001b[35msaveError\u001b[0m ENOENT: no such file or directory, open '/content/package.json'\n",
            "\u001b[0m\u001b[37;40mnpm\u001b[0m \u001b[0m\u001b[30;43mWARN\u001b[0m \u001b[0m\u001b[35menoent\u001b[0m ENOENT: no such file or directory, open '/content/package.json'\n",
            "\u001b[0m\u001b[37;40mnpm\u001b[0m \u001b[0m\u001b[30;43mWARN\u001b[0m\u001b[35m\u001b[0m content No description\n",
            "\u001b[0m\u001b[37;40mnpm\u001b[0m \u001b[0m\u001b[30;43mWARN\u001b[0m\u001b[35m\u001b[0m content No repository field.\n",
            "\u001b[0m\u001b[37;40mnpm\u001b[0m \u001b[0m\u001b[30;43mWARN\u001b[0m\u001b[35m\u001b[0m content No README data\n",
            "\u001b[0m\u001b[37;40mnpm\u001b[0m \u001b[0m\u001b[30;43mWARN\u001b[0m\u001b[35m\u001b[0m content No license field.\n",
            "\u001b[0m\n",
            "\u001b[K\u001b[?25h+ localtunnel@2.0.2\n",
            "updated 1 package and audited 36 packages in 0.672s\n",
            "\n",
            "3 packages are looking for funding\n",
            "  run `npm fund` for details\n",
            "\n",
            "found \u001b[92m0\u001b[0m vulnerabilities\n",
            "\n",
            "34.30.87.90\n",
            "\u001b[K\u001b[?25hnpx: installed 22 in 3.732s\n",
            "your url is: https://yellow-peaches-flash.loca.lt\n"
          ]
        }
      ]
    }
  ]
}